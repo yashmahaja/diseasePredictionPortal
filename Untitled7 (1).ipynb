{
  "cells": [
    {
      "cell_type": "code",
      "execution_count": 1,
      "metadata": {
        "id": "uZenEbPpQ7j0"
      },
      "outputs": [],
      "source": [
        "import timeit"
      ]
    },
    {
      "cell_type": "code",
      "execution_count": 2,
      "metadata": {
        "colab": {
          "base_uri": "https://localhost:8080/"
        },
        "id": "9PGTsSovhnwZ",
        "outputId": "6cde9303-b528-4f51-c60b-769b3c07751b"
      },
      "outputs": [
        {
          "name": "stdout",
          "output_type": "stream",
          "text": [
            "Sum of first 1 thousand number is : 500500\n",
            "0.007341899999999679 seconds\n"
          ]
        }
      ],
      "source": [
        "def sum(numbers):\n",
        "\n",
        "  total = 0\n",
        "  for x in numbers:\n",
        "    total = total + x\n",
        "  print('Sum of first 1 thousand number is :',total)\n",
        "\n",
        "list = range(1001)\n",
        "sum(list)\n",
        "\n",
        "exec_time = timeit.timeit()\n",
        "print(exec_time, \"seconds\")"
      ]
    },
    {
      "cell_type": "code",
      "execution_count": 3,
      "metadata": {
        "colab": {
          "base_uri": "https://localhost:8080/"
        },
        "id": "rV2hAGI63vA1",
        "outputId": "2d774e31-b6fa-4896-d288-789d804013c5"
      },
      "outputs": [
        {
          "name": "stdout",
          "output_type": "stream",
          "text": [
            "Sum of first 500 numbers is : 124750\n",
            "Sum of second 500 numbers is : 375750\n",
            "Sum of all numbers is : 500500\n",
            "Execution Time: 0.004982709884643555\n"
          ]
        }
      ],
      "source": [
        "# Threading\n",
        "import time\n",
        "import threading\n",
        "\n",
        "def first(numbers):\n",
        "    total = 0\n",
        "    for x in numbers:\n",
        "      total = total + x\n",
        "    return total\n",
        "numbers = range(500)\n",
        "a = first(numbers)\n",
        "print('Sum of first 500 numbers is :',a)\n",
        "\n",
        "def second(numbers):\n",
        "    total = 500\n",
        "    for x in numbers:\n",
        "      total = total + x\n",
        "    return total\n",
        "numberss = range(501,1001)\n",
        "b = second(numberss)\n",
        "print('Sum of second 500 numbers is :',b)\n",
        "\n",
        "def add(a, b):\n",
        "    c = a + b\n",
        "    return c\n",
        "print('Sum of all numbers is :',add(a,b))\n",
        "\n",
        "start = time.time()\n",
        "\n",
        "first_thread = threading.Thread(target=first, args=(numbers,))\n",
        "second_thread = threading.Thread(target=second, args=(numberss,))\n",
        "sum_thread = threading.Thread(target=add, args=(a,b))\n",
        "\n",
        "first_thread.start()\n",
        "second_thread.start()\n",
        "sum_thread.start()\n",
        "\n",
        "first_thread.join()\n",
        "second_thread.join()\n",
        "sum_thread.join()\n",
        "\n",
        "end = time.time()\n",
        "\n",
        "print('Execution Time: {}'.format(end-start))"
      ]
    },
    {
      "cell_type": "code",
      "execution_count": 6,
      "metadata": {
        "colab": {
          "base_uri": "https://localhost:8080/"
        },
        "id": "E5WHTma25N61",
        "outputId": "d8c4c758-46cf-42e7-a59c-7c46b4e016e6"
      },
      "outputs": [
        {
          "name": "stdout",
          "output_type": "stream",
          "text": [
            "Enter an integer: P\n",
            "P is not a valid integer. Please try again.\n",
            "Enter an integer: 4\n",
            "You have inserted: 4\n"
          ]
        }
      ],
      "source": [
        "def get_integer_value():\n",
        "  user_value = input(\"Enter an integer: \")\n",
        "  try:\n",
        "    return int(user_value)\n",
        "  except ValueError:\n",
        "    print(f\"{user_value} is not a valid integer. Please try again.\")\n",
        "    return get_integer_value()\n",
        "\n",
        "\n",
        "if __name__ == \"__main__\":\n",
        "  print(f\"You have inserted: {get_integer_value()}\")"
      ]
    },
    {
      "cell_type": "code",
      "execution_count": 7,
      "metadata": {
        "colab": {
          "base_uri": "https://localhost:8080/"
        },
        "id": "QfakmHOv9WAq",
        "outputId": "913ea82f-b9ee-4729-9ce2-fbb61e5a9a5f"
      },
      "outputs": [
        {
          "name": "stdout",
          "output_type": "stream",
          "text": [
            "Sum of first 500 numbers is : 124750\n",
            "Sum of second 500 numbers is : 375750\n",
            "Sum of all numbers is : 500500\n",
            "Execution Time: 0.027750253677368164\n"
          ]
        }
      ],
      "source": [
        "# Multiprocessing\n",
        "\n",
        "import multiprocessing\n",
        "def first(numbers):\n",
        "    total = 0\n",
        "    for x in numbers:\n",
        "      total = total + x\n",
        "    return total\n",
        "numbers = range(500)\n",
        "a = first(numbers)\n",
        "print('Sum of first 500 numbers is :',a)\n",
        "\n",
        "def second(numbers):\n",
        "    total = 500\n",
        "    for x in numbers:\n",
        "      total = total + x\n",
        "    return total\n",
        "numberss = range(501,1001)\n",
        "b = second(numberss)\n",
        "print('Sum of second 500 numbers is :',b)\n",
        "\n",
        "def add(a, b):\n",
        "    c = a + b\n",
        "    return c\n",
        "print('Sum of all numbers is :',add(a,b))\n",
        "\n",
        "start = time.time()\n",
        "\n",
        "first_process = multiprocessing.Process(target=first, args=(numbers,))\n",
        "second_process = multiprocessing.Process(target=second, args=(numberss,))\n",
        "sum = multiprocessing.Process(target=add, args=(a,b))\n",
        "\n",
        "\n",
        "first_process.start()\n",
        "second_process.start()\n",
        "sum.start()\n",
        "\n",
        "first_process.join()\n",
        "second_process.join()\n",
        "sum_thread.join()\n",
        "\n",
        "end = time.time()\n",
        "\n",
        "print('Execution Time: {}'.format(end-start))"
      ]
    },
    {
      "cell_type": "code",
      "execution_count": null,
      "metadata": {
        "id": "90bLNtZXnm8R"
      },
      "outputs": [],
      "source": []
    }
  ],
  "metadata": {
    "colab": {
      "collapsed_sections": [],
      "provenance": []
    },
    "kernelspec": {
      "display_name": "Python 3.9.12 64-bit",
      "language": "python",
      "name": "python3"
    },
    "language_info": {
      "codemirror_mode": {
        "name": "ipython",
        "version": 3
      },
      "file_extension": ".py",
      "mimetype": "text/x-python",
      "name": "python",
      "nbconvert_exporter": "python",
      "pygments_lexer": "ipython3",
      "version": "3.9.12"
    },
    "vscode": {
      "interpreter": {
        "hash": "3c2f7f6a7f717c8b7abffc0d30e3a37fb3b61dee58a6bf969a31c4677df2c17d"
      }
    }
  },
  "nbformat": 4,
  "nbformat_minor": 0
}
